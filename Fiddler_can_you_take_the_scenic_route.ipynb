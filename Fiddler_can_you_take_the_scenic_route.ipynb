{
  "nbformat": 4,
  "nbformat_minor": 0,
  "metadata": {
    "colab": {
      "provenance": [],
      "authorship_tag": "ABX9TyMZSPMJ++FEOHGSoipCZzJz",
      "include_colab_link": true
    },
    "kernelspec": {
      "name": "python3",
      "display_name": "Python 3"
    },
    "language_info": {
      "name": "python"
    }
  },
  "cells": [
    {
      "cell_type": "markdown",
      "metadata": {
        "id": "view-in-github",
        "colab_type": "text"
      },
      "source": [
        "<a href=\"https://colab.research.google.com/github/ahaque12/fiddler-scenic-route/blob/main/Fiddler_can_you_take_the_scenic_route.ipynb\" target=\"_parent\"><img src=\"https://colab.research.google.com/assets/colab-badge.svg\" alt=\"Open In Colab\"/></a>"
      ]
    },
    {
      "cell_type": "markdown",
      "source": [
        "# Fiddler on the proof Can you take the scenic route?\n",
        "\n",
        "https://thefiddler.substack.com/p/can-you-take-the-scenic-route\n",
        "\n",
        "##This Week’s Fiddler\n",
        "\n",
        "From Sanandan Swaminathan comes a logic puzzle about a picturesque drive, and getting by with a little help from your friends:\n",
        "\n",
        "There is a circular road, along which travelers can drive in either direction. However, there is only one gas station on the loop. Driving the full loop in your car requires 40 gallons of gas, but your car’s fuel tank has a maximum capacity of 20 gallons. That said, you’d love to see every last spot along the route.\n",
        "\n",
        "Of course, you can’t achieve this with just your own car. Fortunately, you can call on any number of your Fiddler Nation friends, all of whom happen to have the same make and model car as you, each with a 20-gallon fuel tank and identical fuel efficiency.\n",
        "\n",
        "Now, all the cars, including yours, must start and end at the gas station. However, only your car must cover the entire route. The gas station can be visited (and refueled at) by any car, any number of times. Cars may also transfer fuel from one to another, provided they meet up together at a spot along the route.\n",
        "\n",
        "What is the smallest number of cars (including yours) needed for you to see every spot on the circular route?\n",
        "\n",
        "(Note: There’s no “cheating” here. No towing or pushing of cars. Every car must be driven on its own, and by one person. No jerrycans for lugging around extra fuel, and so on and so forth.)\n",
        "\n",
        "## Extra Credit\n",
        "Assuming you’ve used the smallest number of cars to complete your tour of the entire circular road, Sanandan offers the following as Extra Credit:\n",
        "\n",
        "What is the minimum amount of gas collectively needed by all cars for this journey? (Remember, all the cars must begin and end at the gas station.)\n",
        "\n"
      ],
      "metadata": {
        "id": "usM2vQIwAisj"
      }
    },
    {
      "cell_type": "markdown",
      "source": [
        "# Solution\n",
        "\n",
        "With only your car, it is impossible to traverse the full loop. You can rely on other cars to refuel your car on the way, however other cars must have enough gas to return back to the gas station.\n",
        "\n",
        "With one *other* car, if the car can refill infinite number of times it can travel with you to $10 - \\epsilon$, top you up to 20 gallons $2*\\epsilon$ at a time and wait for you to return to top you back up, allowing you to travel $20-\\epsilon$ and return. You can then start the other direction from the gas station and traverse the full loop.\n",
        "\n",
        "# Assume each car cannot refill\n",
        "\n",
        "You can think of $f(n)$ as the incremental distance the car can go with $n$ other cars resupplying along the way. E.g., $f(0)$ is $0$. $f(1)$ is $6.\\overline{6}$. This is because one *other* car must travel a distance $d$, refuel that same distance to your car, and then go back to the station. The maximum fuel they can provide is therefore $6.\\overline{6}$. A second *other* car must provide fuel to top off the second car who then provides fuel to your car. For additional cars, 20 miles must be equal to the distance the prior other car traveled + twice the incremental additional distance the latest other car travels + the fueling amount. The fueling amount to top off is equal to the distance the latest other car has traveled. I.e. $20 = f(n-1) + 2*(f(n)-f(n-1))+f(n)$. This then creates the following recurrence relationship:\n",
        "\n",
        "$\n",
        "f(n) = \\frac{20 + f(n-1)}{3} \\\\\n",
        "f(1) = \\frac{20}{3} \\\\\n",
        "f(0) = 0\n",
        "$\n",
        "\n",
        "The solution to this recurrence relationship is:\n",
        "\n",
        "$\n",
        "f(n) = 10(1 - 3^{-n})\n",
        "$\n",
        "\n",
        "The additional distance you need is ten miles. This allows you to go half the route, then go back to the gas station and do the same thing the other way.\n",
        "\n",
        "## Other thoughts\n",
        "This can be generalized to $g(n, a)$ which is the farthest distance the $n$ other cars can go to provide $a$ amount of fuel to you.\n",
        "\n",
        "$\n",
        "g(n, a) = \\frac{20 + f(n-1) - a}{2} \\\\\n",
        "g(1) = \\frac{20 - a}{2} \\\\\n",
        "g(0) = 0\n",
        "$\n"
      ],
      "metadata": {
        "id": "NwkfFXMZBaGb"
      }
    },
    {
      "cell_type": "code",
      "source": [
        "import numpy as np\n",
        "from matplotlib import pyplot as plt\n",
        "\n",
        "def other_travel_recurrence(n):\n",
        "  \"\"\" Maximize incremental distance other cars can allow you to travel.\n",
        "      Recurrence relationship.\n",
        "  \"\"\"\n",
        "  if n == 1:\n",
        "    return 20/3\n",
        "  elif n == 0:\n",
        "    return 0\n",
        "\n",
        "  return (20 + other_travel_recurrence(n-1))/3\n",
        "\n",
        "def other_travel_closed(n):\n",
        "  \"\"\" Maximize incremental distance other cars can allow you to travel.\n",
        "      Closed-form solution.\n",
        "  \"\"\"\n",
        "  if n == 1:\n",
        "    return 20/3\n",
        "  elif n == 0:\n",
        "    return 0\n",
        "\n",
        "  return 10*(1-(3**(-n)))\n",
        "\n",
        "def other_travel_recurrence_a(n, a):\n",
        "  \"\"\" Maximize incremental distance other cars can allow you to travel to\n",
        "      to deliver amount a.\n",
        "      Recurrence relationship.\n",
        "  \"\"\"\n",
        "  if n == 1:\n",
        "    return (20 - a)/2\n",
        "  elif n == 0:\n",
        "    return 0\n",
        "\n",
        "  return (20 + other_travel_recurrence(n-1) - a)/2\n"
      ],
      "metadata": {
        "id": "gl1RIsdhAwAs"
      },
      "execution_count": null,
      "outputs": []
    },
    {
      "cell_type": "code",
      "source": [
        "# Ensure closed form solution is correct.\n",
        "assert(other_travel_closed(1) == (20/3))\n",
        "assert(other_travel_recurrence(1) == other_travel_closed(1))\n",
        "assert(other_travel_recurrence(2) == other_travel_closed(2))\n",
        "assert(other_travel_recurrence(5) == other_travel_closed(5))\n",
        "assert(other_travel_recurrence(5) == other_travel_recurrence_a(5, other_travel_recurrence(5)))"
      ],
      "metadata": {
        "colab": {
          "base_uri": "https://localhost:8080/",
          "height": 176
        },
        "id": "0JKEwiVvM4F7",
        "outputId": "2eb3cc1a-20ae-41c4-9e1d-6f74ecfa09fd"
      },
      "execution_count": null,
      "outputs": [
        {
          "output_type": "error",
          "ename": "AssertionError",
          "evalue": "",
          "traceback": [
            "\u001b[0;31m---------------------------------------------------------------------------\u001b[0m",
            "\u001b[0;31mAssertionError\u001b[0m                            Traceback (most recent call last)",
            "\u001b[0;32m<ipython-input-21-2a0915f69f68>\u001b[0m in \u001b[0;36m<cell line: 7>\u001b[0;34m()\u001b[0m\n\u001b[1;32m      5\u001b[0m \u001b[0;32massert\u001b[0m\u001b[0;34m(\u001b[0m\u001b[0mother_travel_recurrence\u001b[0m\u001b[0;34m(\u001b[0m\u001b[0;36m5\u001b[0m\u001b[0;34m)\u001b[0m \u001b[0;34m==\u001b[0m \u001b[0mother_travel_closed\u001b[0m\u001b[0;34m(\u001b[0m\u001b[0;36m5\u001b[0m\u001b[0;34m)\u001b[0m\u001b[0;34m)\u001b[0m\u001b[0;34m\u001b[0m\u001b[0;34m\u001b[0m\u001b[0m\n\u001b[1;32m      6\u001b[0m \u001b[0;32massert\u001b[0m\u001b[0;34m(\u001b[0m\u001b[0mother_travel_recurrence\u001b[0m\u001b[0;34m(\u001b[0m\u001b[0;36m5\u001b[0m\u001b[0;34m)\u001b[0m \u001b[0;34m==\u001b[0m \u001b[0mother_travel_recurrence_a\u001b[0m\u001b[0;34m(\u001b[0m\u001b[0;36m5\u001b[0m\u001b[0;34m,\u001b[0m \u001b[0mother_travel_recurrence\u001b[0m\u001b[0;34m(\u001b[0m\u001b[0;36m5\u001b[0m\u001b[0;34m)\u001b[0m\u001b[0;34m)\u001b[0m\u001b[0;34m)\u001b[0m\u001b[0;34m\u001b[0m\u001b[0;34m\u001b[0m\u001b[0m\n\u001b[0;32m----> 7\u001b[0;31m \u001b[0;32massert\u001b[0m\u001b[0;34m(\u001b[0m\u001b[0mother_travel_closed\u001b[0m\u001b[0;34m(\u001b[0m\u001b[0;36m5\u001b[0m\u001b[0;34m)\u001b[0m \u001b[0;34m==\u001b[0m \u001b[0mother_travel_closed_a\u001b[0m\u001b[0;34m(\u001b[0m\u001b[0;36m5\u001b[0m\u001b[0;34m,\u001b[0m \u001b[0mother_travel_closed\u001b[0m\u001b[0;34m(\u001b[0m\u001b[0;36m5\u001b[0m\u001b[0;34m)\u001b[0m\u001b[0;34m)\u001b[0m\u001b[0;34m)\u001b[0m\u001b[0;34m\u001b[0m\u001b[0;34m\u001b[0m\u001b[0m\n\u001b[0m",
            "\u001b[0;31mAssertionError\u001b[0m: "
          ]
        }
      ]
    },
    {
      "cell_type": "code",
      "source": [
        "travel_amounts = np.array([other_travel_closed(i) for i in range(1, 10)])\n",
        "plt.plot(range(1, len(travel_amounts)+1), travel_amounts)"
      ],
      "metadata": {
        "colab": {
          "base_uri": "https://localhost:8080/",
          "height": 447
        },
        "id": "W1EKJPKONAeG",
        "outputId": "288db6ac-15e3-4cd7-90b4-86a926c4d183"
      },
      "execution_count": null,
      "outputs": [
        {
          "output_type": "execute_result",
          "data": {
            "text/plain": [
              "[<matplotlib.lines.Line2D at 0x7f4bb189a7d0>]"
            ]
          },
          "metadata": {},
          "execution_count": 12
        },
        {
          "output_type": "display_data",
          "data": {
            "text/plain": [
              "<Figure size 640x480 with 1 Axes>"
            ],
            "image/png": "[encoded data removed]"
          },
          "metadata": {}
        }
      ]
    },
    {
      "cell_type": "code",
      "source": [
        "other_travel_recurrence_a(1, 10)"
      ],
      "metadata": {
        "colab": {
          "base_uri": "https://localhost:8080/"
        },
        "id": "8bpMk9bCN8Hf",
        "outputId": "cd95173b-ef04-469d-e8d8-f7cd4910f366"
      },
      "execution_count": null,
      "outputs": [
        {
          "output_type": "execute_result",
          "data": {
            "text/plain": [
              "5.0"
            ]
          },
          "metadata": {},
          "execution_count": 33
        }
      ]
    },
    {
      "cell_type": "code",
      "source": [],
      "metadata": {
        "colab": {
          "base_uri": "https://localhost:8080/"
        },
        "id": "pZWVVyU5S9LE",
        "outputId": "c58d8ff2-01db-4c9c-dc7f-9d633e2094e3"
      },
      "execution_count": null,
      "outputs": [
        {
          "output_type": "execute_result",
          "data": {
            "text/plain": [
              "(9.958847736625515, 9.727366255144032)"
            ]
          },
          "metadata": {},
          "execution_count": 25
        }
      ]
    }
  ]
}